{
 "cells": [
  {
   "cell_type": "markdown",
   "metadata": {},
   "source": [
    "### Hello, Python"
   ]
  },
  {
   "cell_type": "code",
   "execution_count": 1,
   "metadata": {},
   "outputs": [
    {
     "name": "stdout",
     "output_type": "stream",
     "text": [
      "Hello, Python1\n",
      "Hello, Python2\n",
      "Hello, Python3\n"
     ]
    }
   ],
   "source": [
    "print(\"Hello, Python1\")\n",
    "print(\"Hello, Python2\")\n",
    "print('Hello, Python3')"
   ]
  },
  {
   "cell_type": "code",
   "execution_count": 2,
   "metadata": {},
   "outputs": [
    {
     "data": {
      "text/plain": [
       "'Hello, Python3'"
      ]
     },
     "execution_count": 2,
     "metadata": {},
     "output_type": "execute_result"
    }
   ],
   "source": [
    "\"Hello, Python1\"\n",
    "\"Hello, Python2\"\n",
    "\"Hello, Python3\""
   ]
  },
  {
   "cell_type": "code",
   "execution_count": 3,
   "metadata": {},
   "outputs": [
    {
     "ename": "NameError",
     "evalue": "name 'Hello' is not defined",
     "output_type": "error",
     "traceback": [
      "\u001b[0;31m---------------------------------------------------------------------------\u001b[0m",
      "\u001b[0;31mNameError\u001b[0m                                 Traceback (most recent call last)",
      "Cell \u001b[0;32mIn[3], line 1\u001b[0m\n\u001b[0;32m----> 1\u001b[0m \u001b[43mHello\u001b[49m, Python1\n\u001b[1;32m      2\u001b[0m Hello, Python2\n\u001b[1;32m      3\u001b[0m Hello, Python3\n",
      "\u001b[0;31mNameError\u001b[0m: name 'Hello' is not defined"
     ]
    }
   ],
   "source": [
    "Hello, Python1\n",
    "Hello, Python2\n",
    "Hello, Python3"
   ]
  },
  {
   "cell_type": "code",
   "execution_count": 4,
   "metadata": {},
   "outputs": [
    {
     "name": "stdout",
     "output_type": "stream",
     "text": [
      "1\n",
      "2\n",
      "3\n"
     ]
    }
   ],
   "source": [
    "print(1)\n",
    "print(2)\n",
    "print(3)"
   ]
  },
  {
   "cell_type": "code",
   "execution_count": 5,
   "metadata": {},
   "outputs": [
    {
     "name": "stdout",
     "output_type": "stream",
     "text": [
      "1\n",
      "2\n",
      "3\n"
     ]
    }
   ],
   "source": [
    "print('1')\n",
    "print('2')\n",
    "print('3')"
   ]
  },
  {
   "cell_type": "code",
   "execution_count": 6,
   "metadata": {},
   "outputs": [
    {
     "name": "stdout",
     "output_type": "stream",
     "text": [
      "2\n",
      "4\n",
      "6\n"
     ]
    }
   ],
   "source": [
    "print(1+1)\n",
    "print(2+2)\n",
    "print(3+3)"
   ]
  },
  {
   "cell_type": "code",
   "execution_count": 7,
   "metadata": {},
   "outputs": [
    {
     "name": "stdout",
     "output_type": "stream",
     "text": [
      "1+1\n",
      "2+2\n",
      "3+3\n"
     ]
    }
   ],
   "source": [
    "print('1+1')\n",
    "print('2+2')\n",
    "print('3+3')"
   ]
  },
  {
   "cell_type": "code",
   "execution_count": 8,
   "metadata": {},
   "outputs": [
    {
     "data": {
      "text/plain": [
       "6"
      ]
     },
     "execution_count": 8,
     "metadata": {},
     "output_type": "execute_result"
    }
   ],
   "source": [
    "1+1\n",
    "2+2\n",
    "3+3"
   ]
  },
  {
   "cell_type": "code",
   "execution_count": 9,
   "metadata": {},
   "outputs": [
    {
     "data": {
      "text/plain": [
       "'3'"
      ]
     },
     "execution_count": 9,
     "metadata": {},
     "output_type": "execute_result"
    }
   ],
   "source": [
    "'1'\n",
    "'2'\n",
    "'3'"
   ]
  },
  {
   "cell_type": "code",
   "execution_count": 10,
   "metadata": {},
   "outputs": [
    {
     "data": {
      "text/plain": [
       "3"
      ]
     },
     "execution_count": 10,
     "metadata": {},
     "output_type": "execute_result"
    }
   ],
   "source": [
    "1\n",
    "2\n",
    "3"
   ]
  },
  {
   "cell_type": "markdown",
   "metadata": {},
   "source": [
    "### 파이썬 코딩 규칙"
   ]
  },
  {
   "cell_type": "code",
   "execution_count": 13,
   "metadata": {},
   "outputs": [
    {
     "name": "stdout",
     "output_type": "stream",
     "text": [
      "Hello, Python1\n",
      "Hello, Python2\n",
      "Hello, Python3\n"
     ]
    }
   ],
   "source": [
    "# 대문자와 소문자 구분\n",
    "print('Hello, Python1')\n",
    "print('Hello, Python2')\n",
    "print('Hello, Python3')"
   ]
  },
  {
   "cell_type": "code",
   "execution_count": 15,
   "metadata": {},
   "outputs": [
    {
     "ename": "IndentationError",
     "evalue": "unexpected indent (994402337.py, line 4)",
     "output_type": "error",
     "traceback": [
      "\u001b[0;36m  Cell \u001b[0;32mIn[15], line 4\u001b[0;36m\u001b[0m\n\u001b[0;31m    print('Hello, Python3')\u001b[0m\n\u001b[0m    ^\u001b[0m\n\u001b[0;31mIndentationError\u001b[0m\u001b[0;31m:\u001b[0m unexpected indent\n"
     ]
    }
   ],
   "source": [
    "# 들여쓰기\n",
    "print('Hello, Python1')\n",
    "print('Hello, Python2')\n",
    " print('Hello, Python3')"
   ]
  },
  {
   "cell_type": "code",
   "execution_count": 17,
   "metadata": {},
   "outputs": [
    {
     "name": "stdout",
     "output_type": "stream",
     "text": [
      "Hello, Python1\n",
      "Hello, Python2\n"
     ]
    }
   ],
   "source": [
    "# 한줄주석\n",
    "print('Hello, Python1') \n",
    "print('Hello, Python2') #코드 설명\n",
    "#print('Hello, Python3')"
   ]
  },
  {
   "cell_type": "markdown",
   "metadata": {},
   "source": [
    "### 출력함수 호출하기"
   ]
  },
  {
   "cell_type": "code",
   "execution_count": 18,
   "metadata": {},
   "outputs": [
    {
     "name": "stdout",
     "output_type": "stream",
     "text": [
      "\u001b[0;31mDocstring:\u001b[0m\n",
      "print(value, ..., sep=' ', end='\\n', file=sys.stdout, flush=False)\n",
      "\n",
      "Prints the values to a stream, or to sys.stdout by default.\n",
      "Optional keyword arguments:\n",
      "file:  a file-like object (stream); defaults to the current sys.stdout.\n",
      "sep:   string inserted between values, default a space.\n",
      "end:   string appended after the last value, default a newline.\n",
      "flush: whether to forcibly flush the stream.\n",
      "\u001b[0;31mType:\u001b[0m      builtin_function_or_method"
     ]
    }
   ],
   "source": [
    "# 함수 도움말 보기\n",
    "# 함수명?\n",
    "# help(함수명)\n",
    "\n",
    "# print함수의 도움말 보기\n",
    "print?\n"
   ]
  },
  {
   "cell_type": "code",
   "execution_count": 19,
   "metadata": {},
   "outputs": [
    {
     "name": "stdout",
     "output_type": "stream",
     "text": [
      "python\n",
      "100\n",
      "2\n"
     ]
    }
   ],
   "source": [
    "# 하나의 값 출력하기\n",
    "print('python')\n",
    "print(100)\n",
    "print(1+1)"
   ]
  },
  {
   "cell_type": "code",
   "execution_count": 20,
   "metadata": {},
   "outputs": [
    {
     "name": "stdout",
     "output_type": "stream",
     "text": [
      "Hello, Python!\n"
     ]
    }
   ],
   "source": [
    "message = \"Hello, Python!\" \n",
    "\n",
    "# 변수 message의 값을 출력하세요.\n",
    "print(message)"
   ]
  },
  {
   "cell_type": "code",
   "execution_count": 22,
   "metadata": {},
   "outputs": [
    {
     "name": "stdout",
     "output_type": "stream",
     "text": [
      "python java c\n",
      "1431*15= 21465\n"
     ]
    }
   ],
   "source": [
    "# 두개 이상의 값 출력하기\n",
    "print('python', 'java', 'c')\n",
    "\n",
    "# 수식과 결과 출력하기\n",
    "# (예) 1+1= 2\n",
    "print('1431*15=', 1431*15)"
   ]
  },
  {
   "cell_type": "code",
   "execution_count": 1,
   "metadata": {},
   "outputs": [
    {
     "name": "stdout",
     "output_type": "stream",
     "text": [
      "python#java#c\n",
      "1+1=2\n"
     ]
    }
   ],
   "source": [
    "# 해시태그 '#'를 구분자로 지정하기\n",
    "print('python', 'java', 'c', sep='#') \n",
    "\n",
    "# 빈문자''를 구분자로 지정하기\n",
    "print('1+1=', 1+1, sep='') "
   ]
  },
  {
   "cell_type": "code",
   "execution_count": 26,
   "metadata": {},
   "outputs": [
    {
     "name": "stdout",
     "output_type": "stream",
     "text": [
      "Life is short, You need python\n"
     ]
    }
   ],
   "source": [
    "# 끝문자를 지정하여, 두 문장을 줄바꿈 없이 출력하기\n",
    "print('Life is short', end=', ')\n",
    "print('You need python')"
   ]
  },
  {
   "cell_type": "code",
   "execution_count": 27,
   "metadata": {},
   "outputs": [
    {
     "data": {
      "text/plain": [
       "['ArithmeticError',\n",
       " 'AssertionError',\n",
       " 'AttributeError',\n",
       " 'BaseException',\n",
       " 'BlockingIOError',\n",
       " 'BrokenPipeError',\n",
       " 'BufferError',\n",
       " 'BytesWarning',\n",
       " 'ChildProcessError',\n",
       " 'ConnectionAbortedError',\n",
       " 'ConnectionError',\n",
       " 'ConnectionRefusedError',\n",
       " 'ConnectionResetError',\n",
       " 'DeprecationWarning',\n",
       " 'EOFError',\n",
       " 'Ellipsis',\n",
       " 'EncodingWarning',\n",
       " 'EnvironmentError',\n",
       " 'Exception',\n",
       " 'False',\n",
       " 'FileExistsError',\n",
       " 'FileNotFoundError',\n",
       " 'FloatingPointError',\n",
       " 'FutureWarning',\n",
       " 'GeneratorExit',\n",
       " 'IOError',\n",
       " 'ImportError',\n",
       " 'ImportWarning',\n",
       " 'IndentationError',\n",
       " 'IndexError',\n",
       " 'InterruptedError',\n",
       " 'IsADirectoryError',\n",
       " 'KeyError',\n",
       " 'KeyboardInterrupt',\n",
       " 'LookupError',\n",
       " 'MemoryError',\n",
       " 'ModuleNotFoundError',\n",
       " 'NameError',\n",
       " 'None',\n",
       " 'NotADirectoryError',\n",
       " 'NotImplemented',\n",
       " 'NotImplementedError',\n",
       " 'OSError',\n",
       " 'OverflowError',\n",
       " 'PendingDeprecationWarning',\n",
       " 'PermissionError',\n",
       " 'ProcessLookupError',\n",
       " 'RecursionError',\n",
       " 'ReferenceError',\n",
       " 'ResourceWarning',\n",
       " 'RuntimeError',\n",
       " 'RuntimeWarning',\n",
       " 'StopAsyncIteration',\n",
       " 'StopIteration',\n",
       " 'SyntaxError',\n",
       " 'SyntaxWarning',\n",
       " 'SystemError',\n",
       " 'SystemExit',\n",
       " 'TabError',\n",
       " 'TimeoutError',\n",
       " 'True',\n",
       " 'TypeError',\n",
       " 'UnboundLocalError',\n",
       " 'UnicodeDecodeError',\n",
       " 'UnicodeEncodeError',\n",
       " 'UnicodeError',\n",
       " 'UnicodeTranslateError',\n",
       " 'UnicodeWarning',\n",
       " 'UserWarning',\n",
       " 'ValueError',\n",
       " 'Warning',\n",
       " 'ZeroDivisionError',\n",
       " '__IPYTHON__',\n",
       " '__build_class__',\n",
       " '__debug__',\n",
       " '__doc__',\n",
       " '__import__',\n",
       " '__loader__',\n",
       " '__name__',\n",
       " '__package__',\n",
       " '__spec__',\n",
       " 'abs',\n",
       " 'aiter',\n",
       " 'all',\n",
       " 'anext',\n",
       " 'any',\n",
       " 'ascii',\n",
       " 'bin',\n",
       " 'bool',\n",
       " 'breakpoint',\n",
       " 'bytearray',\n",
       " 'bytes',\n",
       " 'callable',\n",
       " 'chr',\n",
       " 'classmethod',\n",
       " 'compile',\n",
       " 'complex',\n",
       " 'copyright',\n",
       " 'credits',\n",
       " 'delattr',\n",
       " 'dict',\n",
       " 'dir',\n",
       " 'display',\n",
       " 'divmod',\n",
       " 'enumerate',\n",
       " 'eval',\n",
       " 'exec',\n",
       " 'execfile',\n",
       " 'filter',\n",
       " 'float',\n",
       " 'format',\n",
       " 'frozenset',\n",
       " 'get_ipython',\n",
       " 'getattr',\n",
       " 'globals',\n",
       " 'hasattr',\n",
       " 'hash',\n",
       " 'help',\n",
       " 'hex',\n",
       " 'id',\n",
       " 'input',\n",
       " 'int',\n",
       " 'isinstance',\n",
       " 'issubclass',\n",
       " 'iter',\n",
       " 'len',\n",
       " 'license',\n",
       " 'list',\n",
       " 'locals',\n",
       " 'map',\n",
       " 'max',\n",
       " 'memoryview',\n",
       " 'min',\n",
       " 'next',\n",
       " 'object',\n",
       " 'oct',\n",
       " 'open',\n",
       " 'ord',\n",
       " 'pow',\n",
       " 'print',\n",
       " 'property',\n",
       " 'range',\n",
       " 'repr',\n",
       " 'reversed',\n",
       " 'round',\n",
       " 'runfile',\n",
       " 'set',\n",
       " 'setattr',\n",
       " 'slice',\n",
       " 'sorted',\n",
       " 'staticmethod',\n",
       " 'str',\n",
       " 'sum',\n",
       " 'super',\n",
       " 'tuple',\n",
       " 'type',\n",
       " 'vars',\n",
       " 'zip']"
      ]
     },
     "execution_count": 27,
     "metadata": {},
     "output_type": "execute_result"
    }
   ],
   "source": [
    "# 파이썬의 기본 내장함수 보기\n",
    "dir(__builtins__)"
   ]
  },
  {
   "cell_type": "markdown",
   "metadata": {},
   "source": [
    "### 입력함수 호출하기"
   ]
  },
  {
   "cell_type": "code",
   "execution_count": 28,
   "metadata": {},
   "outputs": [
    {
     "name": "stdout",
     "output_type": "stream",
     "text": [
      "\u001b[0;31mSignature:\u001b[0m \u001b[0minput\u001b[0m\u001b[0;34m(\u001b[0m\u001b[0mprompt\u001b[0m\u001b[0;34m=\u001b[0m\u001b[0;34m''\u001b[0m\u001b[0;34m)\u001b[0m\u001b[0;34m\u001b[0m\u001b[0;34m\u001b[0m\u001b[0m\n",
      "\u001b[0;31mDocstring:\u001b[0m\n",
      "Forward raw_input to frontends\n",
      "\n",
      "Raises\n",
      "------\n",
      "StdinNotImplementedError if active frontend doesn't support stdin.\n",
      "\u001b[0;31mFile:\u001b[0m      ~/.local/lib/python3.10/site-packages/ipykernel/kernelbase.py\n",
      "\u001b[0;31mType:\u001b[0m      method"
     ]
    }
   ],
   "source": [
    "# 입력함수 input의 도움말 보기\n",
    "input?\n"
   ]
  },
  {
   "cell_type": "code",
   "execution_count": 2,
   "metadata": {},
   "outputs": [
    {
     "data": {
      "text/plain": [
       "'hi'"
      ]
     },
     "execution_count": 2,
     "metadata": {},
     "output_type": "execute_result"
    }
   ],
   "source": [
    "input()\n"
   ]
  },
  {
   "cell_type": "code",
   "execution_count": 3,
   "metadata": {},
   "outputs": [
    {
     "data": {
      "text/plain": [
       "'hi'"
      ]
     },
     "execution_count": 3,
     "metadata": {},
     "output_type": "execute_result"
    }
   ],
   "source": [
    "input('메시지를 입력하세요')"
   ]
  },
  {
   "cell_type": "code",
   "execution_count": 4,
   "metadata": {},
   "outputs": [
    {
     "data": {
      "text/plain": [
       "'20'"
      ]
     },
     "execution_count": 4,
     "metadata": {},
     "output_type": "execute_result"
    }
   ],
   "source": [
    "# 숫자를 입력하면 어떻게 될까요?\n",
    "input('나이를 입력하세요')"
   ]
  },
  {
   "cell_type": "code",
   "execution_count": 8,
   "metadata": {},
   "outputs": [
    {
     "data": {
      "text/plain": [
       "'20'"
      ]
     },
     "execution_count": 8,
     "metadata": {},
     "output_type": "execute_result"
    }
   ],
   "source": [
    "# 나이만 출력되는 이유는 무엇일까요?\n",
    "input('이름을 입력하세요')\n",
    "input('나이를 입력하세요')\n",
    "#출력기능은 없으므로 마지막 값이 반환된 것임. 반환된 값은 무조건 문자열로 ..."
   ]
  },
  {
   "cell_type": "code",
   "execution_count": 5,
   "metadata": {},
   "outputs": [
    {
     "name": "stdout",
     "output_type": "stream",
     "text": [
      "soso 20\n"
     ]
    },
    {
     "data": {
      "text/plain": [
       "21"
      ]
     },
     "execution_count": 5,
     "metadata": {},
     "output_type": "execute_result"
    }
   ],
   "source": [
    "# 값을 리턴하는 함수는 리턴값을 변수에 담아 사용할 수 있습니다.\n",
    "\n",
    "# 이름을 입력받아 변수 name에 할당합니다.\n",
    "name = input('이름을 입력하세요')\n",
    "\n",
    "# 나이를 입력받아 변수 age에 할당합니다.\n",
    "age = int(input('나이를 입력하세요'))\n",
    "\n",
    "print(name, age)\n",
    "\n",
    "# 나이에 1을 더합니다.\n",
    "age+1"
   ]
  },
  {
   "cell_type": "code",
   "execution_count": 6,
   "metadata": {},
   "outputs": [
    {
     "name": "stdout",
     "output_type": "stream",
     "text": [
      "hi\n",
      "None\n"
     ]
    }
   ],
   "source": [
    "# print함수는 리턴값이 있는 함수일까?\n",
    "a = print('hi')\n",
    "print(a)"
   ]
  },
  {
   "cell_type": "code",
   "execution_count": null,
   "metadata": {},
   "outputs": [],
   "source": [
    "# input함수는 리턴값이 있는 함수일까?\n"
   ]
  },
  {
   "cell_type": "markdown",
   "metadata": {},
   "source": [
    "### 모듈의 함수 호출하기"
   ]
  },
  {
   "cell_type": "code",
   "execution_count": 16,
   "metadata": {},
   "outputs": [
    {
     "name": "stdout",
     "output_type": "stream",
     "text": [
      "3\n",
      "2\n",
      "1\n",
      "launch!\n"
     ]
    }
   ],
   "source": [
    "# 로켓 발사 카운트다운\n",
    "import time\n",
    "print(3)\n",
    "time.sleep(1)\n",
    "print(2)\n",
    "time.sleep(1)\n",
    "print(1)\n",
    "time.sleep(1)\n",
    "\n",
    "print(\"launch!\")\n",
    "\n",
    "# time.sleep?"
   ]
  },
  {
   "cell_type": "code",
   "execution_count": 17,
   "metadata": {},
   "outputs": [
    {
     "name": "stdout",
     "output_type": "stream",
     "text": [
      "3\n",
      "2\n",
      "1\n",
      "launch!\n"
     ]
    }
   ],
   "source": [
    "import time as t\n",
    "print(3)\n",
    "t.sleep(1)\n",
    "print(2)\n",
    "t.sleep(1)\n",
    "print(1)\n",
    "t.sleep(1)\n",
    "print(\"launch!\")\n"
   ]
  },
  {
   "cell_type": "code",
   "execution_count": 7,
   "metadata": {},
   "outputs": [
    {
     "name": "stdout",
     "output_type": "stream",
     "text": [
      "3\n",
      "2\n",
      "1\n",
      "launch!\n"
     ]
    }
   ],
   "source": [
    "from time import sleep\n",
    "print(3)\n",
    "sleep(1)\n",
    "print(2)\n",
    "sleep(1)\n",
    "print(1)\n",
    "sleep(1)\n",
    "print(\"launch!\")\n"
   ]
  },
  {
   "cell_type": "code",
   "execution_count": 19,
   "metadata": {},
   "outputs": [
    {
     "name": "stdout",
     "output_type": "stream",
     "text": [
      "\u001b[0;31mDocstring:\u001b[0m\n",
      "sleep(seconds)\n",
      "\n",
      "Delay execution for a given number of seconds.  The argument may be\n",
      "a floating point number for subsecond precision.\n",
      "\u001b[0;31mType:\u001b[0m      builtin_function_or_method"
     ]
    }
   ],
   "source": [
    "# 모듈의 함수 사용법\n",
    "# default값이 없는 매개변수에는 반드시 값을 전달해주어야 합니다.\n",
    "import time \n",
    "time.sleep?"
   ]
  },
  {
   "cell_type": "code",
   "execution_count": 20,
   "metadata": {},
   "outputs": [],
   "source": [
    "# 리턴값이 없는 함수는 코드셀의 마지막 줄에 있어도 아무것도 출력되지 않아요.\n",
    "time.sleep(1)"
   ]
  },
  {
   "cell_type": "code",
   "execution_count": 21,
   "metadata": {},
   "outputs": [
    {
     "data": {
      "text/plain": [
       "5"
      ]
     },
     "execution_count": 21,
     "metadata": {},
     "output_type": "execute_result"
    }
   ],
   "source": [
    "# 리턴값이 있는 함수는 코드셀의 마지막 줄에 있을 때, 리턴값을 출력해줘요.\n",
    "import random\n",
    "random.randint(1,10)"
   ]
  },
  {
   "cell_type": "code",
   "execution_count": 22,
   "metadata": {},
   "outputs": [
    {
     "name": "stdout",
     "output_type": "stream",
     "text": [
      "\u001b[0;31mSignature:\u001b[0m \u001b[0mrandom\u001b[0m\u001b[0;34m.\u001b[0m\u001b[0mrandint\u001b[0m\u001b[0;34m(\u001b[0m\u001b[0ma\u001b[0m\u001b[0;34m,\u001b[0m \u001b[0mb\u001b[0m\u001b[0;34m)\u001b[0m\u001b[0;34m\u001b[0m\u001b[0;34m\u001b[0m\u001b[0m\n",
      "\u001b[0;31mDocstring:\u001b[0m\n",
      "Return random integer in range [a, b], including both end points.\n",
      "        \n",
      "\u001b[0;31mFile:\u001b[0m      ~/.python/current/lib/python3.10/random.py\n",
      "\u001b[0;31mType:\u001b[0m      method"
     ]
    }
   ],
   "source": [
    "random.randint?"
   ]
  },
  {
   "cell_type": "code",
   "execution_count": 23,
   "metadata": {},
   "outputs": [
    {
     "data": {
      "text/plain": [
       "['BPF',\n",
       " 'LOG4',\n",
       " 'NV_MAGICCONST',\n",
       " 'RECIP_BPF',\n",
       " 'Random',\n",
       " 'SG_MAGICCONST',\n",
       " 'SystemRandom',\n",
       " 'TWOPI',\n",
       " '_ONE',\n",
       " '_Sequence',\n",
       " '_Set',\n",
       " '__all__',\n",
       " '__builtins__',\n",
       " '__cached__',\n",
       " '__doc__',\n",
       " '__file__',\n",
       " '__loader__',\n",
       " '__name__',\n",
       " '__package__',\n",
       " '__spec__',\n",
       " '_accumulate',\n",
       " '_acos',\n",
       " '_bisect',\n",
       " '_ceil',\n",
       " '_cos',\n",
       " '_e',\n",
       " '_exp',\n",
       " '_floor',\n",
       " '_index',\n",
       " '_inst',\n",
       " '_isfinite',\n",
       " '_log',\n",
       " '_os',\n",
       " '_pi',\n",
       " '_random',\n",
       " '_repeat',\n",
       " '_sha512',\n",
       " '_sin',\n",
       " '_sqrt',\n",
       " '_test',\n",
       " '_test_generator',\n",
       " '_urandom',\n",
       " '_warn',\n",
       " 'betavariate',\n",
       " 'choice',\n",
       " 'choices',\n",
       " 'expovariate',\n",
       " 'gammavariate',\n",
       " 'gauss',\n",
       " 'getrandbits',\n",
       " 'getstate',\n",
       " 'lognormvariate',\n",
       " 'normalvariate',\n",
       " 'paretovariate',\n",
       " 'randbytes',\n",
       " 'randint',\n",
       " 'random',\n",
       " 'randrange',\n",
       " 'sample',\n",
       " 'seed',\n",
       " 'setstate',\n",
       " 'shuffle',\n",
       " 'triangular',\n",
       " 'uniform',\n",
       " 'vonmisesvariate',\n",
       " 'weibullvariate']"
      ]
     },
     "execution_count": 23,
     "metadata": {},
     "output_type": "execute_result"
    }
   ],
   "source": [
    "# 모듈의 함수 목록 보기\n",
    "import random \n",
    "dir(random)"
   ]
  },
  {
   "cell_type": "markdown",
   "metadata": {},
   "source": [
    "### 변수"
   ]
  },
  {
   "cell_type": "code",
   "execution_count": 24,
   "metadata": {},
   "outputs": [
    {
     "name": "stdout",
     "output_type": "stream",
     "text": [
      "me\n"
     ]
    }
   ],
   "source": [
    "# 변수에는 한번에 하나의 자료만 담을 수 있습니다.\n",
    "# 동일한 이름의 변수에 값을 여러 번 할당하면 마지막 할당한 값만 남습니다.\n",
    "family = 'father'\n",
    "family = 'mother'\n",
    "family = 'syster'\n",
    "family = 'brother'\n",
    "family = 'me'\n",
    "\n",
    "# family를 출력해보세요.\n",
    "print(family)"
   ]
  },
  {
   "cell_type": "code",
   "execution_count": 25,
   "metadata": {},
   "outputs": [
    {
     "name": "stdout",
     "output_type": "stream",
     "text": [
      "10 <class 'int'>\n",
      "hello <class 'str'>\n",
      "['python', 'java', 'c'] <class 'list'>\n"
     ]
    }
   ],
   "source": [
    "# 변수에는 어떠한 type의 자료도 담을 수 있습니다.\n",
    "# 변수에 할당되는 값에 따라 변수의 자료형이 결정됩니다.\n",
    "\n",
    "a = 10 \n",
    "print(a, type(a))\n",
    "\n",
    "a = 'hello'\n",
    "print(a, type(a))\n",
    "\n",
    "a = ['python','java','c']\n",
    "print(a, type(a))\n",
    "\n",
    "# a에 10.0을 할당하고, 값과 자료형을 출력해보세요."
   ]
  },
  {
   "cell_type": "markdown",
   "metadata": {},
   "source": [
    "### 기본자료형\n",
    "    \n"
   ]
  },
  {
   "cell_type": "code",
   "execution_count": 26,
   "metadata": {},
   "outputs": [
    {
     "data": {
      "text/plain": [
       "str"
      ]
     },
     "execution_count": 26,
     "metadata": {},
     "output_type": "execute_result"
    }
   ],
   "source": [
    "# '홍길동'의 자료형은?\n",
    "type('홍길동')"
   ]
  },
  {
   "cell_type": "code",
   "execution_count": 27,
   "metadata": {},
   "outputs": [
    {
     "data": {
      "text/plain": [
       "int"
      ]
     },
     "execution_count": 27,
     "metadata": {},
     "output_type": "execute_result"
    }
   ],
   "source": [
    "# 100의 자료형은?\n",
    "type(100)"
   ]
  },
  {
   "cell_type": "code",
   "execution_count": 28,
   "metadata": {},
   "outputs": [
    {
     "data": {
      "text/plain": [
       "float"
      ]
     },
     "execution_count": 28,
     "metadata": {},
     "output_type": "execute_result"
    }
   ],
   "source": [
    "# 100.0의 자료형은?\n",
    "type(100.0)"
   ]
  },
  {
   "cell_type": "code",
   "execution_count": 30,
   "metadata": {},
   "outputs": [
    {
     "data": {
      "text/plain": [
       "False"
      ]
     },
     "execution_count": 30,
     "metadata": {},
     "output_type": "execute_result"
    }
   ],
   "source": [
    "# 1>2의 자료형은?\n",
    "type(1>2)\n",
    "1>2\n"
   ]
  },
  {
   "cell_type": "code",
   "execution_count": 31,
   "metadata": {},
   "outputs": [
    {
     "data": {
      "text/plain": [
       "str"
      ]
     },
     "execution_count": 31,
     "metadata": {},
     "output_type": "execute_result"
    }
   ],
   "source": [
    "# 'True'의 자료형은?\n",
    "type('True')"
   ]
  },
  {
   "cell_type": "code",
   "execution_count": 32,
   "metadata": {},
   "outputs": [
    {
     "data": {
      "text/plain": [
       "str"
      ]
     },
     "execution_count": 32,
     "metadata": {},
     "output_type": "execute_result"
    }
   ],
   "source": [
    "# 'true'의 자료형은?\n",
    "type('true')"
   ]
  },
  {
   "cell_type": "code",
   "execution_count": 33,
   "metadata": {},
   "outputs": [
    {
     "data": {
      "text/plain": [
       "bool"
      ]
     },
     "execution_count": 33,
     "metadata": {},
     "output_type": "execute_result"
    }
   ],
   "source": [
    "# True의 자료형은?\n",
    "type(True)"
   ]
  },
  {
   "cell_type": "code",
   "execution_count": 35,
   "metadata": {},
   "outputs": [
    {
     "ename": "NameError",
     "evalue": "name 'true' is not defined",
     "output_type": "error",
     "traceback": [
      "\u001b[0;31m---------------------------------------------------------------------------\u001b[0m",
      "\u001b[0;31mNameError\u001b[0m                                 Traceback (most recent call last)",
      "Cell \u001b[0;32mIn[35], line 2\u001b[0m\n\u001b[1;32m      1\u001b[0m \u001b[38;5;66;03m# true의 자료형은?\u001b[39;00m\n\u001b[0;32m----> 2\u001b[0m \u001b[38;5;28mtype\u001b[39m(\u001b[43mtrue\u001b[49m)\n",
      "\u001b[0;31mNameError\u001b[0m: name 'true' is not defined"
     ]
    }
   ],
   "source": [
    "# true의 자료형은?\n",
    "type(true)"
   ]
  },
  {
   "cell_type": "code",
   "execution_count": 36,
   "metadata": {},
   "outputs": [
    {
     "data": {
      "text/plain": [
       "str"
      ]
     },
     "execution_count": 36,
     "metadata": {},
     "output_type": "execute_result"
    }
   ],
   "source": [
    "true = 'hello'\n",
    "# true의 자료형은?\n",
    "type(true)"
   ]
  },
  {
   "cell_type": "markdown",
   "metadata": {},
   "source": [
    "### 컨테이너자료형"
   ]
  },
  {
   "cell_type": "markdown",
   "metadata": {},
   "source": [
    "#### 리스트(list)"
   ]
  },
  {
   "cell_type": "code",
   "execution_count": 8,
   "metadata": {},
   "outputs": [
    {
     "name": "stdout",
     "output_type": "stream",
     "text": [
      "['운동', '독서', '청소', '공부', '저녁약속']\n",
      "<class 'list'>\n"
     ]
    }
   ],
   "source": [
    "# 리스트 생성하기\n",
    "todo_list = ['운동','독서','청소','공부','저녁약속']\n",
    "print(todo_list)\n",
    "print(type(todo_list))"
   ]
  },
  {
   "cell_type": "code",
   "execution_count": 38,
   "metadata": {},
   "outputs": [
    {
     "name": "stdout",
     "output_type": "stream",
     "text": [
      "['운동', '독서', '청소', '공부', '저녁약속']\n",
      "첫번째로 할 일: 운동\n",
      "세번째로 할 일: 청소\n",
      "마지막으로 할 일: 저녁약속\n",
      "마지막으로 할 일: 저녁약속\n"
     ]
    }
   ],
   "source": [
    "# 리스트에서 하나의 값 가져오기\n",
    "todo_list = ['운동','독서','청소','공부','저녁약속']\n",
    "print(todo_list)\n",
    "print('첫번째로 할 일:', todo_list[0])\n",
    "print('세번째로 할 일:', todo_list[2])\n",
    "print('마지막으로 할 일:', todo_list[4])\n",
    "print('마지막으로 할 일:', todo_list[-1])"
   ]
  },
  {
   "cell_type": "code",
   "execution_count": 43,
   "metadata": {},
   "outputs": [
    {
     "name": "stdout",
     "output_type": "stream",
     "text": [
      "['운동', '독서', '청소', '공부', '저녁약속']\n",
      "두번째~네번째 할 일: ['독서', '청소', '공부']\n",
      "처음 할 일 2가지: ['운동', '독서']\n",
      "3번째 이후로 할 일: ['청소', '공부', '저녁약속']\n",
      "할일 모두 가져오기: ['운동', '독서', '청소', '공부', '저녁약속']\n"
     ]
    }
   ],
   "source": [
    "# 리스트에서 값 잘라오기\n",
    "todo_list = ['운동','독서','청소','공부','저녁약속']\n",
    "print(todo_list)\n",
    "print(\"두번째~네번째 할 일:\", todo_list[1:4])\n",
    "print(\"처음 할 일 2가지:\", todo_list[:2])\n",
    "print(\"3번째 이후로 할 일:\", todo_list[2:])\n",
    "print(\"할일 모두 가져오기:\", todo_list[:])"
   ]
  },
  {
   "cell_type": "code",
   "execution_count": 47,
   "metadata": {},
   "outputs": [
    {
     "name": "stdout",
     "output_type": "stream",
     "text": [
      "['운동', '독서', '청소', '공부', '저녁약속']\n",
      "-----마지막에 '일기쓰기' 추가-----\n",
      "<class 'list'>\n"
     ]
    }
   ],
   "source": [
    "# 리스트 끝에 값 추가하기\n",
    "todo_list = ['운동','독서','청소','공부','저녁약속']\n",
    "print(todo_list)\n",
    "print(\"-----마지막에 '일기쓰기' 추가-----\")\n",
    "todo_list.append('일기쓰기')\n",
    "print(type(todo_list))"
   ]
  },
  {
   "cell_type": "code",
   "execution_count": 53,
   "metadata": {},
   "outputs": [
    {
     "name": "stdout",
     "output_type": "stream",
     "text": [
      "['운동', '독서', '청소', '공부', '저녁약속']\n",
      "-----정렬하기-----\n"
     ]
    },
    {
     "data": {
      "text/plain": [
       "['청소', '저녁약속', '운동', '독서', '공부']"
      ]
     },
     "execution_count": 53,
     "metadata": {},
     "output_type": "execute_result"
    }
   ],
   "source": [
    "# 리스트 정렬하기\n",
    "todo_list = ['운동','독서','청소','공부','저녁약속']\n",
    "print(todo_list)\n",
    "print(\"-----정렬하기-----\")\n",
    "todo_list.sort(reverse=True)\n",
    "todo_list\n",
    "\n"
   ]
  },
  {
   "cell_type": "code",
   "execution_count": null,
   "metadata": {},
   "outputs": [],
   "source": [
    "# 리스트가 가지는 함수(메소드)\n",
    "dir(list)"
   ]
  },
  {
   "cell_type": "code",
   "execution_count": 56,
   "metadata": {},
   "outputs": [
    {
     "data": {
      "text/plain": [
       "'김치찌개'"
      ]
     },
     "execution_count": 56,
     "metadata": {},
     "output_type": "execute_result"
    }
   ],
   "source": [
    "# 오늘은 뭘 먹지?\n",
    "menu = ['햄버거','김치찌개','초밥']\n",
    "\n",
    "# 메뉴 추가하기\n",
    "menu.append('떡볶이')\n",
    "menu\n",
    "\n",
    "\n",
    "# 랜덤으로 메뉴 선택하기 (random모듈의 choice 함수 사용)\n",
    "random.choice(menu)\n",
    "\n"
   ]
  },
  {
   "cell_type": "markdown",
   "metadata": {},
   "source": [
    "#### 튜플(tuple)"
   ]
  },
  {
   "cell_type": "code",
   "execution_count": 60,
   "metadata": {},
   "outputs": [
    {
     "name": "stdout",
     "output_type": "stream",
     "text": [
      "(80, 90, 100)\n",
      "(80,)\n",
      "80\n"
     ]
    },
    {
     "data": {
      "text/plain": [
       "int"
      ]
     },
     "execution_count": 60,
     "metadata": {},
     "output_type": "execute_result"
    }
   ],
   "source": [
    "t3 = (80,90,100) \n",
    "t1 = (80,) \n",
    "not_tuple = (80)\n",
    "\n",
    "# t3, t1, no_tuple의 값과 type을 출력해보세요.\n",
    "print(t3)\n",
    "print(t1)\n",
    "print(not_tuple)\n",
    "\n",
    "type(not_tuple)"
   ]
  },
  {
   "cell_type": "code",
   "execution_count": 61,
   "metadata": {},
   "outputs": [
    {
     "name": "stdout",
     "output_type": "stream",
     "text": [
      "(80, 90, 100)\n",
      "(80,)\n",
      "80\n"
     ]
    },
    {
     "data": {
      "text/plain": [
       "int"
      ]
     },
     "execution_count": 61,
     "metadata": {},
     "output_type": "execute_result"
    }
   ],
   "source": [
    "t3 = 80,90,100\n",
    "t1 = 80, \n",
    "not_tuple = 80\n",
    "\n",
    "# t3, t1, no_tuple의 값과 type을 출력해보세요.\n",
    "print(t3)\n",
    "print(t1)\n",
    "print(not_tuple)\n",
    "\n",
    "type(not_tuple)"
   ]
  },
  {
   "cell_type": "code",
   "execution_count": 62,
   "metadata": {},
   "outputs": [
    {
     "data": {
      "text/plain": [
       "['__add__',\n",
       " '__class__',\n",
       " '__class_getitem__',\n",
       " '__contains__',\n",
       " '__delattr__',\n",
       " '__dir__',\n",
       " '__doc__',\n",
       " '__eq__',\n",
       " '__format__',\n",
       " '__ge__',\n",
       " '__getattribute__',\n",
       " '__getitem__',\n",
       " '__getnewargs__',\n",
       " '__gt__',\n",
       " '__hash__',\n",
       " '__init__',\n",
       " '__init_subclass__',\n",
       " '__iter__',\n",
       " '__le__',\n",
       " '__len__',\n",
       " '__lt__',\n",
       " '__mul__',\n",
       " '__ne__',\n",
       " '__new__',\n",
       " '__reduce__',\n",
       " '__reduce_ex__',\n",
       " '__repr__',\n",
       " '__rmul__',\n",
       " '__setattr__',\n",
       " '__sizeof__',\n",
       " '__str__',\n",
       " '__subclasshook__',\n",
       " 'count',\n",
       " 'index']"
      ]
     },
     "execution_count": 62,
     "metadata": {},
     "output_type": "execute_result"
    }
   ],
   "source": [
    "dir(tuple)"
   ]
  },
  {
   "cell_type": "markdown",
   "metadata": {},
   "source": [
    "#### 딕셔너리(dict)"
   ]
  },
  {
   "cell_type": "code",
   "execution_count": 64,
   "metadata": {},
   "outputs": [
    {
     "name": "stdout",
     "output_type": "stream",
     "text": [
      "{'김밥': 4000, '떡볶이': 3000, '어묵': 2000, '튀김': 3500}\n",
      "4000\n"
     ]
    }
   ],
   "source": [
    "# 분식집 메뉴판\n",
    "menu = {\"김밥\":4000, \"떡볶이\":3000, \"어묵\":2000, \"튀김\":3500}\n",
    "print(menu)\n",
    "\n",
    "# \"김밥\"은 얼마인지 출력해보세요.\n",
    "print(menu['김밥'])\n",
    "\n",
    "# 딕셔너리는 인덱스가 없음\n",
    "# print(menu[0]) x"
   ]
  },
  {
   "cell_type": "markdown",
   "metadata": {},
   "source": [
    "#### 집합(set)"
   ]
  },
  {
   "cell_type": "code",
   "execution_count": 65,
   "metadata": {},
   "outputs": [
    {
     "name": "stdout",
     "output_type": "stream",
     "text": [
      "{'포카칩', '새우깡', '양파링', '오감자'}\n"
     ]
    }
   ],
   "source": [
    "snack = {'새우깡','오감자','양파링','포카칩','양파링'}\n",
    "print(snack)"
   ]
  },
  {
   "cell_type": "code",
   "execution_count": 66,
   "metadata": {},
   "outputs": [
    {
     "name": "stdout",
     "output_type": "stream",
     "text": [
      "{'칸초', '허니버터칩', '빼빼로'}\n",
      "{'포카칩', '허니버터칩', '새우깡'}\n"
     ]
    }
   ],
   "source": [
    "# 달콤한 과자, 짭짤한 과자\n",
    "sweet= {'빼빼로','칸초','허니버터칩','허니버터칩','허니버터칩'}\n",
    "salty = {'포카칩','새우깡','허니버터칩'}\n",
    "print(sweet)\n",
    "print(salty)"
   ]
  },
  {
   "cell_type": "code",
   "execution_count": 67,
   "metadata": {},
   "outputs": [
    {
     "name": "stdout",
     "output_type": "stream",
     "text": [
      "합집합: {'칸초', '새우깡', '포카칩', '허니버터칩', '빼빼로'}\n"
     ]
    }
   ],
   "source": [
    "# 모든 과자 집합\n",
    "print(\"합집합:\", salty|sweet)"
   ]
  },
  {
   "cell_type": "code",
   "execution_count": 68,
   "metadata": {},
   "outputs": [
    {
     "name": "stdout",
     "output_type": "stream",
     "text": [
      "교집합: {'허니버터칩'}\n"
     ]
    }
   ],
   "source": [
    "# 단짠을 찾아라\n",
    "print(\"교집합:\", sweet&salty)"
   ]
  },
  {
   "cell_type": "code",
   "execution_count": 69,
   "metadata": {},
   "outputs": [
    {
     "name": "stdout",
     "output_type": "stream",
     "text": [
      "차집합(sweet에만 속하는 과자): {'칸초', '빼빼로'}\n"
     ]
    }
   ],
   "source": [
    "# 달콤하기만 한 과자\n",
    "print(\"차집합(sweet에만 속하는 과자):\", sweet-salty)"
   ]
  },
  {
   "cell_type": "code",
   "execution_count": 70,
   "metadata": {},
   "outputs": [
    {
     "name": "stdout",
     "output_type": "stream",
     "text": [
      "차집합(salty에만 속하는 과자): {'포카칩', '새우깡'}\n"
     ]
    }
   ],
   "source": [
    "# 짭짤하기만 한 과자\n",
    "print(\"차집합(salty에만 속하는 과자):\", salty-sweet)"
   ]
  },
  {
   "cell_type": "markdown",
   "metadata": {},
   "source": [
    "### 객체의 메소드"
   ]
  },
  {
   "cell_type": "code",
   "execution_count": null,
   "metadata": {},
   "outputs": [],
   "source": [
    "fruits = ['apple','banana','kiwi']\n",
    "fruits.append('watermelon') # 반환값이 없는 메소드\n",
    "print(fruits)\n",
    "\n",
    "len(fruits) # len : 반환값이 있는 함수"
   ]
  },
  {
   "cell_type": "markdown",
   "metadata": {},
   "source": [
    "### 연산자"
   ]
  },
  {
   "cell_type": "markdown",
   "metadata": {},
   "source": [
    "#### 산술연산"
   ]
  },
  {
   "cell_type": "code",
   "execution_count": null,
   "metadata": {},
   "outputs": [],
   "source": [
    "print('10+3=', 10+3)\n",
    "print('10-3=', 10-3)\n",
    "print('10*3=',)\n",
    "print('10/3=',)\n",
    "print('10//3=',)\n",
    "print('10%%3=',)\n",
    "print('10**3=')"
   ]
  },
  {
   "cell_type": "markdown",
   "metadata": {},
   "source": [
    "#### 비교연산"
   ]
  },
  {
   "cell_type": "code",
   "execution_count": 71,
   "metadata": {},
   "outputs": [
    {
     "name": "stdout",
     "output_type": "stream",
     "text": [
      "1==1 True\n",
      "1!=1 False\n",
      "1>1 False\n",
      "1<1 False\n",
      "1>=1 True\n",
      "1<=1\n"
     ]
    }
   ],
   "source": [
    "print('1==1',1==1 )\n",
    "print('1!=1', 1!=1)\n",
    "print('1>1', 1>1)\n",
    "print('1<1', 1<1)\n",
    "print('1>=1', 1>=1)\n",
    "print('1<=1',)\n"
   ]
  },
  {
   "cell_type": "markdown",
   "metadata": {},
   "source": [
    "#### 논리연산"
   ]
  },
  {
   "cell_type": "code",
   "execution_count": 72,
   "metadata": {},
   "outputs": [
    {
     "name": "stdout",
     "output_type": "stream",
     "text": [
      "False\n"
     ]
    }
   ],
   "source": [
    "# kevin은 8살이고 키는 130센티미터입니다.\n",
    "# 나이가 10살 이상이고 키가 120 이상이면 놀이기구를 탈 수 있습니다.\n",
    "# kevin은 놀이기구를 탈 수 있을까요?\n",
    "age = 8\n",
    "height = 130\n",
    "\n",
    "print(age>=10 and height>=130)"
   ]
  },
  {
   "cell_type": "code",
   "execution_count": 73,
   "metadata": {},
   "outputs": [
    {
     "name": "stdout",
     "output_type": "stream",
     "text": [
      "True\n"
     ]
    }
   ],
   "source": [
    "# kevin은 8살이고 키는 130센티미터입니다.\n",
    "# 나이가 10살 이상이거나 키가 120 이상이면 놀이기구를 탈 수 있습니다.\n",
    "# kevin은 놀이기구를 탈 수 있을까요?\n",
    "age = 8\n",
    "height = 130\n",
    "\n",
    "print(age>=8 or height>=120)"
   ]
  },
  {
   "cell_type": "markdown",
   "metadata": {},
   "source": [
    "### 흐름 제어"
   ]
  },
  {
   "cell_type": "markdown",
   "metadata": {},
   "source": [
    "#### 조건문"
   ]
  },
  {
   "cell_type": "code",
   "execution_count": 74,
   "metadata": {},
   "outputs": [
    {
     "name": "stdout",
     "output_type": "stream",
     "text": [
      "합격\n",
      "축하합니다.\n"
     ]
    }
   ],
   "source": [
    "# 60점 이상이면 합격\n",
    "score = 60\n",
    "if score>=60:\n",
    "    print('합격')\n",
    "    print('축하합니다.')"
   ]
  },
  {
   "cell_type": "code",
   "execution_count": 76,
   "metadata": {},
   "outputs": [
    {
     "name": "stdout",
     "output_type": "stream",
     "text": [
      "합격\n",
      "축하합니다.\n",
      "수고하셨습니다.\n"
     ]
    }
   ],
   "source": [
    "# 60점 이상이면 합격, 아니면 불합격\n",
    "score = 90\n",
    "\n",
    "if score>=60:\n",
    "    print('합격')\n",
    "    print('축하합니다.')\n",
    "else: \n",
    "    print('불합격')\n",
    "    print('다음기회에...')\n",
    "print('수고하셨습니다.')"
   ]
  },
  {
   "cell_type": "code",
   "execution_count": 77,
   "metadata": {},
   "outputs": [
    {
     "name": "stdout",
     "output_type": "stream",
     "text": [
      "soso\n"
     ]
    }
   ],
   "source": [
    "# 90점 이상이면 Good, 60점 이상이면 Soso, 그 외에는 Bad\n",
    "score = 75\n",
    "\n",
    "if score >=90:\n",
    "    print('good')\n",
    "elif score>=60:\n",
    "    print('soso')\n",
    "else:\n",
    "    print('bad')\n"
   ]
  },
  {
   "cell_type": "markdown",
   "metadata": {},
   "source": [
    "#### for 반복문"
   ]
  },
  {
   "cell_type": "code",
   "execution_count": 78,
   "metadata": {},
   "outputs": [
    {
     "name": "stdout",
     "output_type": "stream",
     "text": [
      "apple\n",
      "banana\n",
      "kiwi\n"
     ]
    }
   ],
   "source": [
    "# ['apple','banana','kiwi']로 반복\n",
    "for i in ['apple','banana','kiwi']:\n",
    "    print(i)"
   ]
  },
  {
   "cell_type": "code",
   "execution_count": 80,
   "metadata": {},
   "outputs": [
    {
     "name": "stdout",
     "output_type": "stream",
     "text": [
      "p\n",
      "y\n",
      "t\n",
      "h\n",
      "o\n",
      "n\n"
     ]
    }
   ],
   "source": [
    "# 'python'로 반복\n",
    "for i in 'python':\n",
    "    print(i)"
   ]
  },
  {
   "cell_type": "code",
   "execution_count": 81,
   "metadata": {},
   "outputs": [
    {
     "name": "stdout",
     "output_type": "stream",
     "text": [
      "0\n",
      "1\n",
      "2\n",
      "3\n",
      "4\n"
     ]
    }
   ],
   "source": [
    "# range(5)로 반복\n",
    "\n",
    "for i in range(5):\n",
    "    print(i)"
   ]
  },
  {
   "cell_type": "code",
   "execution_count": 82,
   "metadata": {},
   "outputs": [
    {
     "name": "stdout",
     "output_type": "stream",
     "text": [
      "1\n",
      "2\n",
      "3\n",
      "4\n"
     ]
    }
   ],
   "source": [
    "# range(1,5)로 반복\n",
    "for i in range(1,5):\n",
    "    print(i)"
   ]
  },
  {
   "cell_type": "code",
   "execution_count": 83,
   "metadata": {},
   "outputs": [
    {
     "name": "stdout",
     "output_type": "stream",
     "text": [
      "1\n",
      "3\n",
      "5\n",
      "7\n",
      "9\n"
     ]
    }
   ],
   "source": [
    "# range(1,10,2)로 반복\n",
    "for i in range(1,10,2):\n",
    "    print(i)"
   ]
  },
  {
   "cell_type": "code",
   "execution_count": 85,
   "metadata": {},
   "outputs": [
    {
     "name": "stdout",
     "output_type": "stream",
     "text": [
      "10\n",
      "9\n",
      "8\n",
      "7\n",
      "6\n",
      "5\n",
      "4\n",
      "3\n",
      "2\n",
      "1\n"
     ]
    }
   ],
   "source": [
    "# range(10,1,-1)로 반복\n",
    "for i in range(10,0,-1):\n",
    "    print(i)"
   ]
  },
  {
   "cell_type": "code",
   "execution_count": 87,
   "metadata": {},
   "outputs": [
    {
     "name": "stdout",
     "output_type": "stream",
     "text": [
      "10\n",
      "9\n",
      "8\n",
      "7\n",
      "6\n",
      "5\n",
      "4\n",
      "3\n",
      "2\n",
      "1\n",
      "launch!\n"
     ]
    }
   ],
   "source": [
    "# 로켓발사 카운트다운 for문으로 만들기\n",
    "\n",
    "import time as t\n",
    "\n",
    "for i in range(10,0,-1):\n",
    "    print(i)\n",
    "    t.sleep(1)\n",
    "print('launch!')\n"
   ]
  },
  {
   "cell_type": "markdown",
   "metadata": {},
   "source": [
    "#### while 반복문"
   ]
  },
  {
   "cell_type": "code",
   "execution_count": 88,
   "metadata": {},
   "outputs": [],
   "source": [
    "user_password = '1234'\n",
    "input_password = input(\"비밀번호를 입력하세요.\")\n",
    "\n",
    "# 올바른 비밀번호를 입력할 때까지 반복하여 비밀번호를 입력받습니다.\n",
    "\n",
    "while user_password != input_password:\n",
    "    input_password = input(\"비밀번호를 입력하세요.\")\n",
    "\n",
    "    if user_password == input_password:\n",
    "        print\n",
    "\n",
    "# 올바른 비밀번호를 입력하면 '로그인 성공' 출력\n",
    "\n",
    "\n",
    "\n",
    "# 올바른 비밀번호가 아니면 '잘못된 비밀번호입니다' 출력\n"
   ]
  },
  {
   "cell_type": "code",
   "execution_count": 89,
   "metadata": {},
   "outputs": [
    {
     "ename": "KeyboardInterrupt",
     "evalue": "Interrupted by user",
     "output_type": "error",
     "traceback": [
      "\u001b[0;31m---------------------------------------------------------------------------\u001b[0m",
      "\u001b[0;31mKeyboardInterrupt\u001b[0m                         Traceback (most recent call last)",
      "Cell \u001b[0;32mIn[89], line 7\u001b[0m\n\u001b[1;32m      5\u001b[0m input_password \u001b[38;5;241m=\u001b[39m \u001b[38;5;28minput\u001b[39m(\u001b[38;5;124m\"\u001b[39m\u001b[38;5;124m비밀번호를 입력하세요.\u001b[39m\u001b[38;5;124m\"\u001b[39m)\n\u001b[1;32m      6\u001b[0m \u001b[38;5;66;03m# 올바른 비밀번호를 입력하면 '로그인 성공' 출력하고 반복 종료\u001b[39;00m\n\u001b[0;32m----> 7\u001b[0m \u001b[38;5;28;01mif\u001b[39;00m user_password \u001b[38;5;241m==\u001b[39m \u001b[38;5;28;43minput\u001b[39;49m\u001b[43m(\u001b[49m\u001b[38;5;124;43m\"\u001b[39;49m\u001b[38;5;124;43m비밀번호를 입력하세요.\u001b[39;49m\u001b[38;5;124;43m\"\u001b[39;49m\u001b[43m)\u001b[49m:\n\u001b[1;32m      8\u001b[0m     \u001b[38;5;28mprint\u001b[39m(\u001b[38;5;124m'\u001b[39m\u001b[38;5;124m성공\u001b[39m\u001b[38;5;124m'\u001b[39m)\n\u001b[1;32m      9\u001b[0m \u001b[38;5;66;03m# 올바른 비밀번호가 아니면 '잘못된 비밀번호입니다' 출력\u001b[39;00m\n\u001b[1;32m     10\u001b[0m \u001b[38;5;28;01melse\u001b[39;00m:\n",
      "File \u001b[0;32m~/.local/lib/python3.10/site-packages/ipykernel/kernelbase.py:1282\u001b[0m, in \u001b[0;36mKernel.raw_input\u001b[0;34m(self, prompt)\u001b[0m\n\u001b[1;32m   1280\u001b[0m     msg \u001b[38;5;241m=\u001b[39m \u001b[38;5;124m\"\u001b[39m\u001b[38;5;124mraw_input was called, but this frontend does not support input requests.\u001b[39m\u001b[38;5;124m\"\u001b[39m\n\u001b[1;32m   1281\u001b[0m     \u001b[38;5;28;01mraise\u001b[39;00m StdinNotImplementedError(msg)\n\u001b[0;32m-> 1282\u001b[0m \u001b[38;5;28;01mreturn\u001b[39;00m \u001b[38;5;28;43mself\u001b[39;49m\u001b[38;5;241;43m.\u001b[39;49m\u001b[43m_input_request\u001b[49m\u001b[43m(\u001b[49m\n\u001b[1;32m   1283\u001b[0m \u001b[43m    \u001b[49m\u001b[38;5;28;43mstr\u001b[39;49m\u001b[43m(\u001b[49m\u001b[43mprompt\u001b[49m\u001b[43m)\u001b[49m\u001b[43m,\u001b[49m\n\u001b[1;32m   1284\u001b[0m \u001b[43m    \u001b[49m\u001b[38;5;28;43mself\u001b[39;49m\u001b[38;5;241;43m.\u001b[39;49m\u001b[43m_parent_ident\u001b[49m\u001b[43m[\u001b[49m\u001b[38;5;124;43m\"\u001b[39;49m\u001b[38;5;124;43mshell\u001b[39;49m\u001b[38;5;124;43m\"\u001b[39;49m\u001b[43m]\u001b[49m\u001b[43m,\u001b[49m\n\u001b[1;32m   1285\u001b[0m \u001b[43m    \u001b[49m\u001b[38;5;28;43mself\u001b[39;49m\u001b[38;5;241;43m.\u001b[39;49m\u001b[43mget_parent\u001b[49m\u001b[43m(\u001b[49m\u001b[38;5;124;43m\"\u001b[39;49m\u001b[38;5;124;43mshell\u001b[39;49m\u001b[38;5;124;43m\"\u001b[39;49m\u001b[43m)\u001b[49m\u001b[43m,\u001b[49m\n\u001b[1;32m   1286\u001b[0m \u001b[43m    \u001b[49m\u001b[43mpassword\u001b[49m\u001b[38;5;241;43m=\u001b[39;49m\u001b[38;5;28;43;01mFalse\u001b[39;49;00m\u001b[43m,\u001b[49m\n\u001b[1;32m   1287\u001b[0m \u001b[43m\u001b[49m\u001b[43m)\u001b[49m\n",
      "File \u001b[0;32m~/.local/lib/python3.10/site-packages/ipykernel/kernelbase.py:1325\u001b[0m, in \u001b[0;36mKernel._input_request\u001b[0;34m(self, prompt, ident, parent, password)\u001b[0m\n\u001b[1;32m   1322\u001b[0m \u001b[38;5;28;01mexcept\u001b[39;00m \u001b[38;5;167;01mKeyboardInterrupt\u001b[39;00m:\n\u001b[1;32m   1323\u001b[0m     \u001b[38;5;66;03m# re-raise KeyboardInterrupt, to truncate traceback\u001b[39;00m\n\u001b[1;32m   1324\u001b[0m     msg \u001b[38;5;241m=\u001b[39m \u001b[38;5;124m\"\u001b[39m\u001b[38;5;124mInterrupted by user\u001b[39m\u001b[38;5;124m\"\u001b[39m\n\u001b[0;32m-> 1325\u001b[0m     \u001b[38;5;28;01mraise\u001b[39;00m \u001b[38;5;167;01mKeyboardInterrupt\u001b[39;00m(msg) \u001b[38;5;28;01mfrom\u001b[39;00m \u001b[38;5;28;01mNone\u001b[39;00m\n\u001b[1;32m   1326\u001b[0m \u001b[38;5;28;01mexcept\u001b[39;00m \u001b[38;5;167;01mException\u001b[39;00m:\n\u001b[1;32m   1327\u001b[0m     \u001b[38;5;28mself\u001b[39m\u001b[38;5;241m.\u001b[39mlog\u001b[38;5;241m.\u001b[39mwarning(\u001b[38;5;124m\"\u001b[39m\u001b[38;5;124mInvalid Message:\u001b[39m\u001b[38;5;124m\"\u001b[39m, exc_info\u001b[38;5;241m=\u001b[39m\u001b[38;5;28;01mTrue\u001b[39;00m)\n",
      "\u001b[0;31mKeyboardInterrupt\u001b[0m: Interrupted by user"
     ]
    }
   ],
   "source": [
    "user_password = '1234'\n",
    "\n",
    "# 무한반복하며 비밀번호를 입력받습니다.\n",
    "while True:\n",
    "    input_password = input(\"비밀번호를 입력하세요.\")\n",
    "    # 올바른 비밀번호를 입력하면 '로그인 성공' 출력하고 반복 종료\n",
    "    if user_password == input(\"비밀번호를 입력하세요.\"):\n",
    "        print('성공')\n",
    "    # 올바른 비밀번호가 아니면 '잘못된 비밀번호입니다' 출력\n",
    "    else:\n",
    "        print('잘못된 비밀번호')\n",
    "end\n",
    "\n",
    "\n"
   ]
  },
  {
   "cell_type": "code",
   "execution_count": null,
   "metadata": {},
   "outputs": [],
   "source": [
    "def validate_password(password):\n",
    "    while True:\n",
    "        try:\n",
    "            if len(password) < 8:\n",
    "                raise ValueError(\"비밀번호는 최소 8자 이상이어야 합니다.\")\n",
    "            elif not any(char.isdigit() for char in password):\n",
    "                raise ValueError(\"비밀번호는 숫자를 포함해야 합니다.\")\n",
    "            elif not any(char.isalpha() for char in password):\n",
    "                raise ValueError(\"비밀번호는 문자를 포함해야 합니다.\")\n",
    "            elif not any(char.isupper() for char in password):\n",
    "                raise ValueError(\"비밀번호는 대문자를 포함해야 합니다.\")\n",
    "            elif not any(char.islower() for char in password):\n",
    "                raise ValueError(\"비밀번호는 소문자를 포함해야 합니다.\")\n",
    "            else:\n",
    "                print(\"올바른 비밀번호입니다.\")\n",
    "                break\n",
    "        except ValueError as e:\n",
    "            print(f\"예외 발생: {e}\")\n",
    "            password = input(\"새로운 비밀번호를 입력하세요: \")\n",
    " \n",
    "# Get password input from the user\n",
    "user_password = input(\"비밀번호를 입력하세요: \")\n",
    " \n",
    "# Validate the password\n",
    "validate_password(user_password)"
   ]
  }
 ],
 "metadata": {
  "kernelspec": {
   "display_name": "Python 3",
   "language": "python",
   "name": "python3"
  },
  "language_info": {
   "codemirror_mode": {
    "name": "ipython",
    "version": 3
   },
   "file_extension": ".py",
   "mimetype": "text/x-python",
   "name": "python",
   "nbconvert_exporter": "python",
   "pygments_lexer": "ipython3",
   "version": "3.10.13"
  }
 },
 "nbformat": 4,
 "nbformat_minor": 2
}
